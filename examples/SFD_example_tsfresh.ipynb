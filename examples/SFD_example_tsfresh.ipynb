{
  "cells": [
    {
      "cell_type": "markdown",
      "metadata": {
        "id": "EaTES2tMkBAR"
      },
      "source": [
        "## Install Required Libraries"
      ]
    },
    {
      "cell_type": "code",
      "execution_count": 1,
      "metadata": {
        "colab": {
          "base_uri": "https://localhost:8080/"
        },
        "id": "fMLwcJUJ5ynP",
        "outputId": "90d2e7a0-ef9c-4e4d-e360-3f936410193f"
      },
      "outputs": [
        {
          "output_type": "stream",
          "name": "stdout",
          "text": [
            "\u001b[2K     \u001b[90m━━━━━━━━━━━━━━━━━━━━━━━━━━━━━━━━━━━━━━━━\u001b[0m \u001b[32m20.6/20.6 MB\u001b[0m \u001b[31m44.9 MB/s\u001b[0m eta \u001b[36m0:00:00\u001b[0m\n",
            "\u001b[2K     \u001b[90m━━━━━━━━━━━━━━━━━━━━━━━━━━━━━━━━━━━━━━━━\u001b[0m \u001b[32m122.4/122.4 kB\u001b[0m \u001b[31m13.2 MB/s\u001b[0m eta \u001b[36m0:00:00\u001b[0m\n",
            "\u001b[2K     \u001b[90m━━━━━━━━━━━━━━━━━━━━━━━━━━━━━━━━━━━━━━━━\u001b[0m \u001b[32m2.5/2.5 MB\u001b[0m \u001b[31m24.9 MB/s\u001b[0m eta \u001b[36m0:00:00\u001b[0m\n",
            "\u001b[2K     \u001b[90m━━━━━━━━━━━━━━━━━━━━━━━━━━━━━━━━━━━━━━━━\u001b[0m \u001b[32m95.3/95.3 kB\u001b[0m \u001b[31m1.6 MB/s\u001b[0m eta \u001b[36m0:00:00\u001b[0m\n",
            "\u001b[2K     \u001b[90m━━━━━━━━━━━━━━━━━━━━━━━━━━━━━━━━━━━━━━━━\u001b[0m \u001b[32m169.1/169.1 kB\u001b[0m \u001b[31m9.7 MB/s\u001b[0m eta \u001b[36m0:00:00\u001b[0m\n",
            "\u001b[?25h  Preparing metadata (setup.py) ... \u001b[?25l\u001b[?25hdone\n",
            "  Building wheel for detach-rocket (setup.py) ... \u001b[?25l\u001b[?25hdone\n"
          ]
        }
      ],
      "source": [
        "!pip install sktime --quiet\n",
        "!pip install pyts --quiet\n",
        "!pip install tsfresh --quiet\n",
        "!sudo pip install git+https://github.com/gon-uri/detach_rocket --quiet"
      ]
    },
    {
      "cell_type": "markdown",
      "metadata": {
        "id": "v4WN7u9ql-0h"
      },
      "source": [
        "## Download Dataset from UCR"
      ]
    },
    {
      "cell_type": "code",
      "execution_count": 12,
      "metadata": {
        "id": "ruXkm-gumddl"
      },
      "outputs": [],
      "source": [
        "from detach_rocket.utils_datasets import fetch_ucr_dataset\n",
        "\n",
        "# Download Dataset\n",
        "dataset_name_list = ['PhalangesOutlinesCorrect'] # PhalangesOutlinesCorrect ProximalPhalanxOutlineCorrect #Fordb\n",
        "current_dataset = fetch_ucr_dataset(dataset_name_list[0])"
      ]
    },
    {
      "cell_type": "markdown",
      "metadata": {
        "id": "dgzA1-1tci-q"
      },
      "source": [
        "## Prepare Dataset Matrices"
      ]
    },
    {
      "cell_type": "code",
      "execution_count": 13,
      "metadata": {
        "colab": {
          "base_uri": "https://localhost:8080/"
        },
        "id": "NmzM3E_OxaU1",
        "outputId": "e65485e2-bf7e-4339-e55f-dc19c8fa2b1d"
      },
      "outputs": [
        {
          "output_type": "stream",
          "name": "stdout",
          "text": [
            "Dataset Matrix Shape: ( # of instances , time series length )\n",
            " \n",
            "Train: (1800, 80)\n",
            " \n",
            "Test: (858, 80)\n"
          ]
        }
      ],
      "source": [
        "import numpy as np\n",
        "\n",
        "# Create data matrices and remove possible rows with nans\n",
        "\n",
        "print(f\"Dataset Matrix Shape: ( # of instances , time series length )\")\n",
        "print(f\" \")\n",
        "\n",
        "# Train Matrix\n",
        "X_train = current_dataset['data_train']\n",
        "print(f\"Train: {X_train.shape}\")\n",
        "non_nan_mask_train = ~np.isnan(X_train).any(axis=1)\n",
        "non_inf_mask_train = ~np.isinf(X_train).any(axis=1)\n",
        "mask_train = np.logical_and(non_nan_mask_train,non_inf_mask_train)\n",
        "X_train = X_train[mask_train]\n",
        "X_train = X_train.reshape(X_train.shape[0],1,X_train.shape[1])\n",
        "y_train = current_dataset['target_train']\n",
        "y_train = y_train[mask_train]\n",
        "\n",
        "print(f\" \")\n",
        "\n",
        "# Test Matrix\n",
        "X_test = current_dataset['data_test']\n",
        "#print(f\"Number of test instances: {len(X_test)}\")\n",
        "print(f\"Test: {X_test.shape}\")\n",
        "non_nan_mask_test = ~np.isnan(X_test).any(axis=1)\n",
        "non_inf_mask_test = ~np.isinf(X_test).any(axis=1)\n",
        "mask_test = np.logical_and(non_nan_mask_test,non_inf_mask_test)\n",
        "X_test = X_test[mask_test]\n",
        "X_test = X_test.reshape(X_test.shape[0],1,X_test.shape[1])\n",
        "y_test = current_dataset['target_test']\n",
        "y_test = y_test[mask_test]"
      ]
    },
    {
      "cell_type": "markdown",
      "source": [
        "## Apply TSFresh Transformation to Time Series"
      ],
      "metadata": {
        "id": "AXonEpdttc9D"
      }
    },
    {
      "cell_type": "code",
      "source": [
        "from sktime.transformations.panel.tsfresh import TSFreshFeatureExtractor\n",
        "\n",
        "# Create TSFresh trasformation\n",
        "ts_fresh_transform = TSFreshFeatureExtractor(default_fc_parameters=\"comprehensive\", show_warnings=False, disable_progressbar=False)\n",
        "\n",
        "# Fit and transform Time Series\n",
        "X_train_ts = ts_fresh_transform.fit_transform(X_train)\n",
        "X_test_ts = ts_fresh_transform.transform(X_test)\n",
        "\n",
        "print(f\" \")\n",
        "print(f\"TSFresh Features Matrix Shape: ( # of instances , # of features )\")\n",
        "print(f\" \")\n",
        "print(f\"Train: {X_train_ts.shape}\")\n",
        "print(f\" \")\n",
        "print(f\"Test: {X_test_ts.shape}\")"
      ],
      "metadata": {
        "colab": {
          "base_uri": "https://localhost:8080/"
        },
        "id": "evUwhQg6s6kU",
        "outputId": "73c1a7e0-6c65-43bd-bb59-45e6e9f995ec"
      },
      "execution_count": 18,
      "outputs": [
        {
          "output_type": "stream",
          "name": "stderr",
          "text": [
            "WARNING:tsfresh.feature_extraction.settings:Dependency not available for matrix_profile, this feature will be disabled!\n",
            "WARNING:tsfresh.feature_extraction.settings:Dependency not available for matrix_profile, this feature will be disabled!\n",
            "WARNING:tsfresh.feature_extraction.settings:Dependency not available for matrix_profile, this feature will be disabled!\n",
            "WARNING:tsfresh.feature_extraction.settings:Dependency not available for matrix_profile, this feature will be disabled!\n",
            "WARNING:tsfresh.feature_extraction.settings:Dependency not available for matrix_profile, this feature will be disabled!\n",
            "WARNING:tsfresh.feature_extraction.settings:Dependency not available for matrix_profile, this feature will be disabled!\n",
            "Feature Extraction: 100%|██████████| 1800/1800 [02:19<00:00, 12.86it/s]\n",
            "Feature Extraction: 100%|██████████| 858/858 [01:08<00:00, 12.58it/s]\n"
          ]
        },
        {
          "output_type": "stream",
          "name": "stdout",
          "text": [
            "TSFresh Features Matrix Shape: ( # of instances , # of features )\n",
            " \n",
            "Train: (1800, 783)\n",
            " \n",
            "Test: (858, 783)\n"
          ]
        }
      ]
    },
    {
      "cell_type": "markdown",
      "metadata": {
        "id": "IkgnHeNtmFec"
      },
      "source": [
        "## Train and Evaluate the Model"
      ]
    },
    {
      "cell_type": "code",
      "execution_count": 16,
      "metadata": {
        "colab": {
          "base_uri": "https://localhost:8080/"
        },
        "id": "o5uOBpflHKjJ",
        "outputId": "0809acca-be87-4792-9cdc-7b24ec8400cc"
      },
      "outputs": [
        {
          "output_type": "stream",
          "name": "stdout",
          "text": [
            "TRAINING RESULTS Full Features:\n",
            "Optimal Alpha Full Features: 428.13\n",
            "Train Accuraccy Full Features: 84.28%\n",
            "-------------------------\n",
            "TRAINING RESULTS Detach Model:\n",
            "Optimal Alpha Detach Model: 49.00\n",
            "Train Accuraccy Detach Model: 82.56%\n",
            "-------------------------\n",
            "Test Accuraccy Full Model: 74.71%\n",
            "Test Accuraccy Detach Model: 75.99%\n"
          ]
        }
      ],
      "source": [
        "from detach_rocket.detach_classes import DetachMatrix\n",
        "\n",
        "np.random.seed(4)\n",
        "\n",
        "# Create model object\n",
        "DetachMatrixModel = DetachMatrix()\n",
        "\n",
        "# Trian Model\n",
        "DetachMatrixModel.fit(X_train_ts,y_train)\n",
        "\n",
        "# Evaluate Performance on Test Set\n",
        "detach_test_score, full_test_score= DetachMatrixModel.score(X_test_ts,y_test)\n",
        "print('Test Accuraccy Full Model: {:.2f}%'.format(100*full_test_score))\n",
        "print('Test Accuraccy Detach Model: {:.2f}%'.format(100*detach_test_score))"
      ]
    },
    {
      "cell_type": "markdown",
      "metadata": {
        "id": "lwFoPnnFmN5V"
      },
      "source": [
        "## Plot SFD Curve and Optimal Model Selection"
      ]
    },
    {
      "cell_type": "code",
      "execution_count": 17,
      "metadata": {
        "colab": {
          "base_uri": "https://localhost:8080/",
          "height": 366
        },
        "id": "zmyz2GeojYwl",
        "outputId": "16eab3f8-cbc1-4336-c0fb-e29a8310e582"
      },
      "outputs": [
        {
          "output_type": "display_data",
          "data": {
            "text/plain": [
              "<Figure size 800x350 with 1 Axes>"
            ],
            "image/png": "[encoded data removed]"
          },
          "metadata": {}
        },
        {
          "output_type": "stream",
          "name": "stdout",
          "text": [
            "Optimal Model Size: 8.05% of full model\n"
          ]
        }
      ],
      "source": [
        "import matplotlib.pyplot as plt\n",
        "\n",
        "percentage_vector = DetachMatrixModel._percentage_vector\n",
        "acc_curve = DetachMatrixModel._sfd_curve\n",
        "\n",
        "c = DetachMatrixModel.trade_off\n",
        "\n",
        "x=(percentage_vector) * 100\n",
        "y=(acc_curve/acc_curve[0]-1) * 100\n",
        "\n",
        "point_x = x[DetachMatrixModel._max_index]\n",
        "#point_y = y[DetachMatrixModel._max_index]\n",
        "\n",
        "plt.figure(figsize=(8,3.5))\n",
        "plt.axvline(x = point_x, color = 'r',label=f'Optimal Model (c={c})')\n",
        "plt.plot(x, y, label='SFD curve', linewidth=2.5, color='C7', alpha=1)\n",
        "#plt.scatter(point_x, point_y, s=50, marker='o', label=f'Optimal point (c={c})')\n",
        "\n",
        "plt.grid(True, linestyle='-', alpha=0.5)\n",
        "plt.xlim(102,-2)\n",
        "plt.xlabel('% of Retained Features')\n",
        "plt.ylabel('Relative Validation Set Accuracy (%)')\n",
        "plt.legend()\n",
        "plt.show()\n",
        "\n",
        "print('Optimal Model Size: {:.2f}% of full model'.format(point_x))"
      ]
    }
  ],
  "metadata": {
    "colab": {
      "provenance": []
    },
    "kernelspec": {
      "display_name": "Python 3",
      "name": "python3"
    },
    "language_info": {
      "name": "python"
    }
  },
  "nbformat": 4,
  "nbformat_minor": 0
}