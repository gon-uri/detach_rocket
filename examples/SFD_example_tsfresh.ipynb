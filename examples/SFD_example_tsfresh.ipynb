{
  "cells": [
    {
      "cell_type": "markdown",
      "metadata": {
        "id": "EaTES2tMkBAR"
      },
      "source": [
        "## Install Required Libraries"
      ]
    },
    {
      "cell_type": "code",
      "execution_count": 1,
      "metadata": {
        "colab": {
          "base_uri": "https://localhost:8080/"
        },
        "id": "fMLwcJUJ5ynP",
        "outputId": "90d2e7a0-ef9c-4e4d-e360-3f936410193f"
      },
      "outputs": [],
      "source": [
        "!pip install sktime --quiet\n",
        "!pip install pyts --quiet\n",
        "!pip install tsfresh --quiet\n",
        "#!pip install git+https://github.com/gon-uri/detach_rocket --quiet"
      ]
    },
    {
      "cell_type": "code",
      "execution_count": 2,
      "metadata": {},
      "outputs": [
        {
          "name": "stdout",
          "output_type": "stream",
          "text": [
            "/Users/uribarri/Desktop/DETACH/detach_rocket\n"
          ]
        }
      ],
      "source": [
        "%load_ext autoreload\n",
        "%autoreload 2\n",
        "\n",
        "import sys\n",
        "import os\n",
        "\n",
        "# Get the path to the current notebook\n",
        "current_dir = os.path.dirname(os.path.dirname(os.path.abspath('__file__')))\n",
        "print(current_dir)\n",
        "\n",
        "# Add the local subfolder 'library_name' to the beginning of sys.path\n",
        "#sys.path.insert(0, os.path.join(current_dir, 'detach_rocket'))\n",
        "sys.path.insert(0, current_dir)"
      ]
    },
    {
      "cell_type": "code",
      "execution_count": 6,
      "metadata": {},
      "outputs": [
        {
          "name": "stdout",
          "output_type": "stream",
          "text": [
            "The autoreload extension is already loaded. To reload it, use:\n",
            "  %reload_ext autoreload\n"
          ]
        },
        {
          "data": {
            "text/plain": [
              "'max'"
            ]
          },
          "execution_count": 6,
          "metadata": {},
          "output_type": "execute_result"
        }
      ],
      "source": [
        "%load_ext autoreload\n",
        "\n",
        "from detach_rocket.detach_classes import DetachMatrix\n",
        "import numpy as np\n",
        "\n",
        "np.random.seed(4)\n",
        "\n",
        "# Create model object\n",
        "DetachMatrixModel = DetachMatrix()\n",
        "\n",
        "DetachMatrixModel.multilabel_type"
      ]
    },
    {
      "cell_type": "markdown",
      "metadata": {
        "id": "v4WN7u9ql-0h"
      },
      "source": [
        "## Download Dataset from UCR"
      ]
    },
    {
      "cell_type": "code",
      "execution_count": 7,
      "metadata": {
        "id": "ruXkm-gumddl"
      },
      "outputs": [],
      "source": [
        "from detach_rocket.utils_datasets import fetch_ucr_dataset\n",
        "\n",
        "# Download Dataset\n",
        "dataset_name_list = ['PhalangesOutlinesCorrect'] # PhalangesOutlinesCorrect ProximalPhalanxOutlineCorrect #Fordb\n",
        "current_dataset = fetch_ucr_dataset(dataset_name_list[0])"
      ]
    },
    {
      "cell_type": "markdown",
      "metadata": {
        "id": "dgzA1-1tci-q"
      },
      "source": [
        "## Prepare Dataset Matrices"
      ]
    },
    {
      "cell_type": "code",
      "execution_count": 8,
      "metadata": {
        "colab": {
          "base_uri": "https://localhost:8080/"
        },
        "id": "NmzM3E_OxaU1",
        "outputId": "e65485e2-bf7e-4339-e55f-dc19c8fa2b1d"
      },
      "outputs": [
        {
          "name": "stdout",
          "output_type": "stream",
          "text": [
            "Dataset Matrix Shape: ( # of instances , time series length )\n",
            " \n",
            "Train: (1800, 80)\n",
            " \n",
            "Test: (858, 80)\n"
          ]
        }
      ],
      "source": [
        "import numpy as np\n",
        "\n",
        "# Create data matrices and remove possible rows with nans\n",
        "\n",
        "print(f\"Dataset Matrix Shape: ( # of instances , time series length )\")\n",
        "print(f\" \")\n",
        "\n",
        "# Train Matrix\n",
        "X_train = current_dataset['data_train']\n",
        "print(f\"Train: {X_train.shape}\")\n",
        "non_nan_mask_train = ~np.isnan(X_train).any(axis=1)\n",
        "non_inf_mask_train = ~np.isinf(X_train).any(axis=1)\n",
        "mask_train = np.logical_and(non_nan_mask_train,non_inf_mask_train)\n",
        "X_train = X_train[mask_train]\n",
        "X_train = X_train.reshape(X_train.shape[0],1,X_train.shape[1])\n",
        "y_train = current_dataset['target_train']\n",
        "y_train = y_train[mask_train]\n",
        "\n",
        "print(f\" \")\n",
        "\n",
        "# Test Matrix\n",
        "X_test = current_dataset['data_test']\n",
        "#print(f\"Number of test instances: {len(X_test)}\")\n",
        "print(f\"Test: {X_test.shape}\")\n",
        "non_nan_mask_test = ~np.isnan(X_test).any(axis=1)\n",
        "non_inf_mask_test = ~np.isinf(X_test).any(axis=1)\n",
        "mask_test = np.logical_and(non_nan_mask_test,non_inf_mask_test)\n",
        "X_test = X_test[mask_test]\n",
        "X_test = X_test.reshape(X_test.shape[0],1,X_test.shape[1])\n",
        "y_test = current_dataset['target_test']\n",
        "y_test = y_test[mask_test]"
      ]
    },
    {
      "cell_type": "markdown",
      "metadata": {
        "id": "AXonEpdttc9D"
      },
      "source": [
        "## Apply TSFresh Transformation to Time Series"
      ]
    },
    {
      "cell_type": "code",
      "execution_count": 9,
      "metadata": {
        "colab": {
          "base_uri": "https://localhost:8080/"
        },
        "id": "evUwhQg6s6kU",
        "outputId": "73c1a7e0-6c65-43bd-bb59-45e6e9f995ec"
      },
      "outputs": [
        {
          "name": "stderr",
          "output_type": "stream",
          "text": [
            "Feature Extraction: 100%|██████████| 1800/1800 [01:11<00:00, 25.32it/s]\n",
            "Feature Extraction: 100%|██████████| 858/858 [00:34<00:00, 24.75it/s]\n"
          ]
        },
        {
          "name": "stdout",
          "output_type": "stream",
          "text": [
            " \n",
            "TSFresh Features Matrix Shape: ( # of instances , # of features )\n",
            " \n",
            "Train: (1800, 783)\n",
            " \n",
            "Test: (858, 783)\n"
          ]
        }
      ],
      "source": [
        "from sktime.transformations.panel.tsfresh import TSFreshFeatureExtractor\n",
        "\n",
        "# Create TSFresh trasformation\n",
        "ts_fresh_transform = TSFreshFeatureExtractor(default_fc_parameters=\"comprehensive\", show_warnings=False, disable_progressbar=False)\n",
        "\n",
        "# Fit and transform Time Series\n",
        "X_train_ts = ts_fresh_transform.fit_transform(X_train)\n",
        "X_test_ts = ts_fresh_transform.transform(X_test)\n",
        "\n",
        "print(f\" \")\n",
        "print(f\"TSFresh Features Matrix Shape: ( # of instances , # of features )\")\n",
        "print(f\" \")\n",
        "print(f\"Train: {X_train_ts.shape}\")\n",
        "print(f\" \")\n",
        "print(f\"Test: {X_test_ts.shape}\")"
      ]
    },
    {
      "cell_type": "markdown",
      "metadata": {
        "id": "IkgnHeNtmFec"
      },
      "source": [
        "## Train and Evaluate the Model"
      ]
    },
    {
      "cell_type": "code",
      "execution_count": 10,
      "metadata": {
        "colab": {
          "base_uri": "https://localhost:8080/"
        },
        "id": "o5uOBpflHKjJ",
        "outputId": "0809acca-be87-4792-9cdc-7b24ec8400cc"
      },
      "outputs": [
        {
          "name": "stdout",
          "output_type": "stream",
          "text": [
            "The autoreload extension is already loaded. To reload it, use:\n",
            "  %reload_ext autoreload\n",
            "TRAINING RESULTS Full Features:\n",
            "Optimal Alpha Full Features: 428.13\n",
            "Train Accuraccy Full Features: 84.28%\n",
            "-------------------------\n",
            "TRAINING RESULTS Detach Model:\n",
            "Optimal Alpha Detach Model: 37.93\n",
            "Train Accuraccy Detach Model: 82.39%\n",
            "-------------------------\n",
            "Test Accuraccy Full Model: 75.52%\n",
            "Test Accuraccy Detach Model: 76.11%\n"
          ]
        }
      ],
      "source": [
        "%load_ext autoreload\n",
        "\n",
        "from detach_rocket.detach_classes import DetachMatrix\n",
        "\n",
        "np.random.seed(4)\n",
        "\n",
        "# Create model object\n",
        "DetachMatrixModel = DetachMatrix()\n",
        "\n",
        "# Trian Model\n",
        "DetachMatrixModel.fit(X_train_ts,y_train)\n",
        "\n",
        "# Evaluate Performance on Test Set\n",
        "detach_test_score, full_test_score= DetachMatrixModel.score(X_test_ts,y_test)\n",
        "print('Test Accuraccy Full Model: {:.2f}%'.format(100*full_test_score))\n",
        "print('Test Accuraccy Detach Model: {:.2f}%'.format(100*detach_test_score))"
      ]
    },
    {
      "cell_type": "markdown",
      "metadata": {
        "id": "lwFoPnnFmN5V"
      },
      "source": [
        "## Plot SFD Curve and Optimal Model Selection"
      ]
    },
    {
      "cell_type": "code",
      "execution_count": 12,
      "metadata": {
        "colab": {
          "base_uri": "https://localhost:8080/",
          "height": 366
        },
        "id": "zmyz2GeojYwl",
        "outputId": "16eab3f8-cbc1-4336-c0fb-e29a8310e582"
      },
      "outputs": [
        {
          "data": {
            "image/png": "[encoded data removed]",
            "text/plain": [
              "<Figure size 576x252 with 1 Axes>"
            ]
          },
          "metadata": {
            "needs_background": "light"
          },
          "output_type": "display_data"
        },
        {
          "name": "stdout",
          "output_type": "stream",
          "text": [
            "Optimal Model Size: 8.05% of full model\n"
          ]
        }
      ],
      "source": [
        "import matplotlib.pyplot as plt\n",
        "\n",
        "percentage_vector = DetachMatrixModel._percentage_vector\n",
        "acc_curve = DetachMatrixModel._sfd_curve\n",
        "\n",
        "c = DetachMatrixModel.trade_off\n",
        "\n",
        "x=(percentage_vector) * 100\n",
        "y=(acc_curve/acc_curve[0]-1) * 100\n",
        "\n",
        "point_x = x[DetachMatrixModel._max_index]\n",
        "#point_y = y[DetachMatrixModel._max_index]\n",
        "\n",
        "plt.figure(figsize=(8,3.5))\n",
        "plt.axvline(x = point_x, color = 'r',label=f'Optimal Model (c={c})')\n",
        "plt.plot(x, y, label='SFD curve', linewidth=2.5, color='C7', alpha=1)\n",
        "#plt.scatter(point_x, point_y, s=50, marker='o', label=f'Optimal point (c={c})')\n",
        "\n",
        "plt.grid(True, linestyle='-', alpha=0.5)\n",
        "plt.xlim(102,-2)\n",
        "plt.xlabel('% of Retained Features')\n",
        "plt.ylabel('Relative Validation Set Accuracy (%)')\n",
        "plt.legend()\n",
        "plt.show()\n",
        "\n",
        "print('Optimal Model Size: {:.2f}% of full model'.format(point_x))"
      ]
    },
    {
      "cell_type": "code",
      "execution_count": null,
      "metadata": {},
      "outputs": [],
      "source": []
    }
  ],
  "metadata": {
    "colab": {
      "provenance": []
    },
    "kernelspec": {
      "display_name": "Python 3",
      "name": "python3"
    },
    "language_info": {
      "codemirror_mode": {
        "name": "ipython",
        "version": 3
      },
      "file_extension": ".py",
      "mimetype": "text/x-python",
      "name": "python",
      "nbconvert_exporter": "python",
      "pygments_lexer": "ipython3",
      "version": "3.8.13"
    }
  },
  "nbformat": 4,
  "nbformat_minor": 0
}
