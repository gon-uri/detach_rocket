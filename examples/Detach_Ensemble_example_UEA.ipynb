{
  "cells": [
    {
      "cell_type": "markdown",
      "metadata": {
        "id": "EaTES2tMkBAR"
      },
      "source": [
        "## Install Required Libraries"
      ]
    },
    {
      "cell_type": "code",
      "execution_count": 1,
      "metadata": {
        "colab": {
          "base_uri": "https://localhost:8080/"
        },
        "id": "fMLwcJUJ5ynP",
        "outputId": "f44eda72-1cf6-4ac6-dfa2-59ab001370c6"
      },
      "outputs": [],
      "source": [
        "!pip install sktime --quiet\n",
        "!pip install pyts --quiet\n",
        "!pip install git+https://github.com/gon-uri/detach_rocket --quiet"
      ]
    },
    {
      "cell_type": "markdown",
      "metadata": {
        "id": "v4WN7u9ql-0h"
      },
      "source": [
        "## Download Dataset from UEA"
      ]
    },
    {
      "cell_type": "code",
      "execution_count": 2,
      "metadata": {
        "id": "ruXkm-gumddl"
      },
      "outputs": [],
      "source": [
        "# Download Dataset\n",
        "from detach_rocket.utils_datasets import fetch_uea_dataset\n",
        "\n",
        "dataset_name_list = ['SelfRegulationSCP1'] \n",
        "current_dataset = fetch_uea_dataset(dataset_name_list[0])"
      ]
    },
    {
      "cell_type": "markdown",
      "metadata": {
        "id": "dgzA1-1tci-q"
      },
      "source": [
        "## Prepare Dataset Matrices"
      ]
    },
    {
      "cell_type": "code",
      "execution_count": 3,
      "metadata": {
        "colab": {
          "base_uri": "https://localhost:8080/"
        },
        "id": "NmzM3E_OxaU1",
        "outputId": "f1179dc7-5864-4db1-d9c1-0519f323dd7d"
      },
      "outputs": [
        {
          "name": "stdout",
          "output_type": "stream",
          "text": [
            "Dataset Matrix Shape: ( # of instances , # of channels , time series length )\n",
            " \n",
            "Train: (268, 6, 896)\n",
            " \n",
            "Test: (293, 6, 896)\n"
          ]
        }
      ],
      "source": [
        "print(f\"Dataset Matrix Shape: ( # of instances , # of channels , time series length )\")\n",
        "print(f\" \")\n",
        "\n",
        "# Train Matrix\n",
        "X_train = current_dataset['data_train']\n",
        "print(f\"Train: {X_train.shape}\")\n",
        "y_train = current_dataset['target_train']\n",
        "\n",
        "print(f\" \")\n",
        "\n",
        "# Test Matrix\n",
        "X_test = current_dataset['data_test']\n",
        "print(f\"Test: {X_test.shape}\")\n",
        "y_test = current_dataset['target_test']"
      ]
    },
    {
      "cell_type": "markdown",
      "metadata": {
        "id": "IkgnHeNtmFec"
      },
      "source": [
        "## Train and Evaluate the Model"
      ]
    },
    {
      "cell_type": "code",
      "execution_count": 4,
      "metadata": {
        "colab": {
          "background_save": true,
          "base_uri": "https://localhost:8080/"
        },
        "id": "o5uOBpflHKjJ",
        "outputId": "f28e5bb3-ed41-4fc8-e42f-4496de73274f"
      },
      "outputs": [
        {
          "name": "stdout",
          "output_type": "stream",
          "text": [
            "TRAINING RESULTS Full ROCKET:\n",
            "Optimal Alpha Full ROCKET: 428.13\n",
            "Train Accuraccy Full ROCKET: 98.51%\n",
            "-------------------------\n",
            "TRAINING RESULTS Detach Model:\n",
            "Optimal Alpha Detach Model: 37.93\n",
            "Train Accuraccy Detach Model: 95.15%\n",
            "-------------------------\n",
            "TRAINING RESULTS Full ROCKET:\n",
            "Optimal Alpha Full ROCKET: 428.13\n",
            "Train Accuraccy Full ROCKET: 98.88%\n",
            "-------------------------\n",
            "TRAINING RESULTS Detach Model:\n",
            "Optimal Alpha Detach Model: 37.93\n",
            "Train Accuraccy Detach Model: 98.88%\n",
            "-------------------------\n",
            "TRAINING RESULTS Full ROCKET:\n",
            "Optimal Alpha Full ROCKET: 428.13\n",
            "Train Accuraccy Full ROCKET: 98.13%\n",
            "-------------------------\n",
            "TRAINING RESULTS Detach Model:\n",
            "Optimal Alpha Detach Model: 37.93\n",
            "Train Accuraccy Detach Model: 94.78%\n",
            "-------------------------\n",
            "TRAINING RESULTS Full ROCKET:\n",
            "Optimal Alpha Full ROCKET: 428.13\n",
            "Train Accuraccy Full ROCKET: 98.51%\n",
            "-------------------------\n",
            "TRAINING RESULTS Detach Model:\n",
            "Optimal Alpha Detach Model: 37.93\n",
            "Train Accuraccy Detach Model: 94.03%\n",
            "-------------------------\n",
            "TRAINING RESULTS Full ROCKET:\n",
            "Optimal Alpha Full ROCKET: 428.13\n",
            "Train Accuraccy Full ROCKET: 98.13%\n",
            "-------------------------\n",
            "TRAINING RESULTS Detach Model:\n",
            "Optimal Alpha Detach Model: 37.93\n",
            "Train Accuraccy Detach Model: 92.54%\n",
            "-------------------------\n",
            "Train Accuracy: 97.01%\n",
            "Test Accuracy: 93.52%\n"
          ]
        }
      ],
      "source": [
        "from detach_rocket.detach_classes import DetachEnsemble\n",
        "from sklearn.metrics import accuracy_score\n",
        "\n",
        "# Select initial model characteristics\n",
        "num_models = 5\n",
        "num_kernels = 1000\n",
        "\n",
        "# Create model object\n",
        "DetachEnsembleModel = DetachEnsemble(num_models=num_models, num_kernels=num_kernels)\n",
        "\n",
        "# Train Model\n",
        "DetachEnsembleModel.fit(X_train, y_train)\n",
        "\n",
        "# Evaluate Performance on Train set\n",
        "y_train_pred = DetachEnsembleModel.predict(X_train)\n",
        "print('Train Accuracy: {:.2f}%'.format(100*accuracy_score(y_train, y_train_pred)))\n",
        "\n",
        "y_test_pred = DetachEnsembleModel.predict(X_test)\n",
        "print('Test Accuracy: {:.2f}%'.format(100*accuracy_score(y_test, y_test_pred)))"
      ]
    },
    {
      "cell_type": "markdown",
      "metadata": {
        "id": "lwFoPnnFmN5V"
      },
      "source": [
        "## Estimate and plot channel relevance"
      ]
    },
    {
      "cell_type": "code",
      "execution_count": 5,
      "metadata": {
        "colab": {
          "background_save": true
        },
        "id": "zmyz2GeojYwl",
        "outputId": "34ff3981-faa0-49fe-ec8b-58f996ac9c54"
      },
      "outputs": [
        {
          "data": {
            "image/png": "[encoded data removed]",
            "text/plain": [
              "<Figure size 576x252 with 1 Axes>"
            ]
          },
          "metadata": {
            "needs_background": "light"
          },
          "output_type": "display_data"
        }
      ],
      "source": [
        "import matplotlib.pyplot as plt\n",
        "\n",
        "x = range(1, DetachEnsembleModel.num_channels + 1)\n",
        "channel_relevance = DetachEnsembleModel.estimate_channel_relevance()\n",
        "\n",
        "plt.figure(figsize=(8,3.5))\n",
        "plt.bar(x, channel_relevance, color='C7', zorder=2)\n",
        "\n",
        "plt.title('Channel relevance estimation')\n",
        "plt.grid(True, linestyle='-', alpha=0.5, zorder=1)\n",
        "plt.xlabel('Channels')\n",
        "plt.ylabel('Relevance Estimation (arb. unit)')\n",
        "plt.show()"
      ]
    }
  ],
  "metadata": {
    "colab": {
      "provenance": []
    },
    "kernelspec": {
      "display_name": "Python 3",
      "name": "python3"
    },
    "language_info": {
      "codemirror_mode": {
        "name": "ipython",
        "version": 3
      },
      "file_extension": ".py",
      "mimetype": "text/x-python",
      "name": "python",
      "nbconvert_exporter": "python",
      "pygments_lexer": "ipython3",
      "version": "3.8.10"
    }
  },
  "nbformat": 4,
  "nbformat_minor": 0
}
