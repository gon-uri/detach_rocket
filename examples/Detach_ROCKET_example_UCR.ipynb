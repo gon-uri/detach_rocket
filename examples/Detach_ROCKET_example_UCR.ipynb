{
  "cells": [
    {
      "cell_type": "markdown",
      "metadata": {
        "id": "EaTES2tMkBAR"
      },
      "source": [
        "## Install Required Libraries"
      ]
    },
    {
      "cell_type": "code",
      "execution_count": 2,
      "metadata": {
        "colab": {
          "base_uri": "https://localhost:8080/"
        },
        "id": "fMLwcJUJ5ynP",
        "outputId": "f44eda72-1cf6-4ac6-dfa2-59ab001370c6"
      },
      "outputs": [],
      "source": [
        "!pip install numpy scikit-learn pyts torch matplotlib sktime==0.30.0 --quiet\n",
        "!pip install git+https://github.com/gon-uri/detach_rocket --quiet"
      ]
    },
    {
      "cell_type": "markdown",
      "metadata": {
        "id": "v4WN7u9ql-0h"
      },
      "source": [
        "## Download Dataset from UCR"
      ]
    },
    {
      "cell_type": "code",
      "execution_count": 3,
      "metadata": {
        "id": "ruXkm-gumddl"
      },
      "outputs": [],
      "source": [
        "from detach_rocket.utils_datasets import fetch_ucr_dataset\n",
        "\n",
        "# Download Dataset\n",
        "dataset_name_list = ['FordB'] # PhalangesOutlinesCorrect ProximalPhalanxOutlineCorrect #Fordb\n",
        "current_dataset = fetch_ucr_dataset(dataset_name_list[0])"
      ]
    },
    {
      "cell_type": "markdown",
      "metadata": {
        "id": "dgzA1-1tci-q"
      },
      "source": [
        "## Prepare Dataset Matrices"
      ]
    },
    {
      "cell_type": "code",
      "execution_count": 5,
      "metadata": {
        "colab": {
          "base_uri": "https://localhost:8080/"
        },
        "id": "NmzM3E_OxaU1",
        "outputId": "f1179dc7-5864-4db1-d9c1-0519f323dd7d"
      },
      "outputs": [
        {
          "name": "stdout",
          "output_type": "stream",
          "text": [
            "Dataset Matrix Shape: ( # of instances , time series length )\n",
            " \n",
            "Train: (3636, 500)\n",
            " \n",
            "Test: (810, 500)\n"
          ]
        }
      ],
      "source": [
        "import numpy as np\n",
        "\n",
        "# Create data matrices and remove possible rows with nans\n",
        "\n",
        "print(f\"Dataset Matrix Shape: ( # of instances , time series length )\")\n",
        "print(f\" \")\n",
        "\n",
        "# Train Matrix\n",
        "X_train = current_dataset['data_train']\n",
        "print(f\"Train: {X_train.shape}\")\n",
        "non_nan_mask_train = ~np.isnan(X_train).any(axis=1)\n",
        "non_inf_mask_train = ~np.isinf(X_train).any(axis=1)\n",
        "mask_train = np.logical_and(non_nan_mask_train,non_inf_mask_train)\n",
        "X_train = X_train[mask_train]\n",
        "X_train = X_train.reshape(X_train.shape[0],1,X_train.shape[1])\n",
        "y_train = current_dataset['target_train']\n",
        "y_train = y_train[mask_train]\n",
        "\n",
        "print(f\" \")\n",
        "\n",
        "# Test Matrix\n",
        "X_test = current_dataset['data_test']\n",
        "#print(f\"Number of test instances: {len(X_test)}\")\n",
        "print(f\"Test: {X_test.shape}\")\n",
        "non_nan_mask_test = ~np.isnan(X_test).any(axis=1)\n",
        "non_inf_mask_test = ~np.isinf(X_test).any(axis=1)\n",
        "mask_test = np.logical_and(non_nan_mask_test,non_inf_mask_test)\n",
        "X_test = X_test[mask_test]\n",
        "X_test = X_test.reshape(X_test.shape[0],1,X_test.shape[1])\n",
        "y_test = current_dataset['target_test']\n",
        "y_test = y_test[mask_test]"
      ]
    },
    {
      "cell_type": "markdown",
      "metadata": {
        "id": "IkgnHeNtmFec"
      },
      "source": [
        "## Train and Evaluate the Model"
      ]
    },
    {
      "cell_type": "code",
      "execution_count": 6,
      "metadata": {
        "colab": {
          "background_save": true,
          "base_uri": "https://localhost:8080/"
        },
        "id": "o5uOBpflHKjJ",
        "outputId": "f28e5bb3-ed41-4fc8-e42f-4496de73274f"
      },
      "outputs": [
        {
          "name": "stderr",
          "output_type": "stream",
          "text": [
            "OMP: Info #271: omp_set_nested routine deprecated, please use omp_set_max_active_levels instead.\n"
          ]
        },
        {
          "name": "stdout",
          "output_type": "stream",
          "text": [
            "TRAINING RESULTS Full ROCKET:\n",
            "Optimal Alpha Full ROCKET: 4832.93\n",
            "Train Accuraccy Full ROCKET: 99.81%\n",
            "-------------------------\n",
            "TRAINING RESULTS Detach Model:\n",
            "Optimal Alpha Detach Model: 3.36\n",
            "Train Accuraccy Detach Model: 95.24%\n",
            "-------------------------\n",
            "Test Accuraccy Full Model: 81.11%\n",
            "Test Accuraccy Detach-ROCKET: 81.73%\n"
          ]
        }
      ],
      "source": [
        "from detach_rocket.detach_classes import DetachRocket\n",
        "\n",
        "np.random.seed(2)\n",
        "\n",
        "# Select initial model characteristics\n",
        "model_type = \"rocket\"\n",
        "num_kernels = 10000\n",
        "\n",
        "# Create model object\n",
        "DetachRocketModel = DetachRocket(model_type, num_kernels=num_kernels)\n",
        "\n",
        "# Trian Model\n",
        "DetachRocketModel.fit(X_train,y_train)\n",
        "\n",
        "# Evaluate Performance on Test Set\n",
        "detach_test_score, full_test_score= DetachRocketModel.score(X_test,y_test)\n",
        "print('Test Accuraccy Full Model: {:.2f}%'.format(100*full_test_score))\n",
        "print('Test Accuraccy Detach-ROCKET: {:.2f}%'.format(100*detach_test_score))"
      ]
    },
    {
      "cell_type": "markdown",
      "metadata": {
        "id": "lwFoPnnFmN5V"
      },
      "source": [
        "## Plot SFD Curve and Optimal Model Selection"
      ]
    },
    {
      "cell_type": "code",
      "execution_count": 8,
      "metadata": {
        "colab": {
          "background_save": true
        },
        "id": "zmyz2GeojYwl",
        "outputId": "34ff3981-faa0-49fe-ec8b-58f996ac9c54"
      },
      "outputs": [
        {
          "data": {
            "image/png": "[encoded data removed]",
            "text/plain": [
              "<Figure size 576x252 with 1 Axes>"
            ]
          },
          "metadata": {
            "needs_background": "light"
          },
          "output_type": "display_data"
        },
        {
          "name": "stdout",
          "output_type": "stream",
          "text": [
            "Optimal Model Size: 0.20% of full model\n"
          ]
        }
      ],
      "source": [
        "import matplotlib.pyplot as plt\n",
        "\n",
        "percentage_vector = DetachRocketModel._percentage_vector\n",
        "acc_curve = DetachRocketModel._sfd_curve\n",
        "\n",
        "c = DetachRocketModel.trade_off\n",
        "\n",
        "x=(percentage_vector) * 100\n",
        "y=(acc_curve/acc_curve[0]-1) * 100\n",
        "\n",
        "point_x = x[DetachRocketModel._max_index]\n",
        "#point_y = y[DetachRocketModel._max_index]\n",
        "\n",
        "plt.figure(figsize=(8,3.5))\n",
        "plt.axvline(x = point_x, color = 'r',label=f'Optimal Model (c={c})')\n",
        "plt.plot(x, y, label='SFD curve', linewidth=2.5, color='C7', alpha=1)\n",
        "#plt.scatter(point_x, point_y, s=50, marker='o', label=f'Optimal point (c={c})')\n",
        "\n",
        "plt.grid(True, linestyle='-', alpha=0.5)\n",
        "plt.xlim(102,-2)\n",
        "plt.xlabel('% of Retained Features')\n",
        "plt.ylabel('Relative Validation Set Accuracy (%)')\n",
        "plt.legend()\n",
        "plt.show()\n",
        "\n",
        "print('Optimal Model Size: {:.2f}% of full model'.format(point_x))"
      ]
    },
    {
      "cell_type": "code",
      "execution_count": null,
      "metadata": {
        "id": "mfGs8ajkMyNl"
      },
      "outputs": [],
      "source": []
    }
  ],
  "metadata": {
    "colab": {
      "provenance": []
    },
    "kernelspec": {
      "display_name": "Python 3",
      "name": "python3"
    },
    "language_info": {
      "codemirror_mode": {
        "name": "ipython",
        "version": 3
      },
      "file_extension": ".py",
      "mimetype": "text/x-python",
      "name": "python",
      "nbconvert_exporter": "python",
      "pygments_lexer": "ipython3",
      "version": "3.8.13"
    }
  },
  "nbformat": 4,
  "nbformat_minor": 0
}
